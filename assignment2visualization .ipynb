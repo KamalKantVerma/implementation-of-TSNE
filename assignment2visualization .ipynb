{
 "cells": [
  {
   "cell_type": "markdown",
   "metadata": {},
   "source": [
    "# Amazon Fine Food Reviews Analysis\n",
    "Data Source: https://www.kaggle.com/snap/amazon-fine-food-reviews \n",
    "\n",
    "The Amazon Fine Food Reviews dataset consists of reviews of fine foods from Amazon.\n",
    "\n",
    "Number of reviews: 568,454\n",
    "Number of users: 256,059\n",
    "Number of products: 74,258\n",
    "Timespan: Oct 1999 - Oct 2012\n",
    "Number of Attributes/Columns in data: 10\n",
    "\n",
    "Attribute Information:\n",
    "\n",
    "Id\n",
    "ProductId - unique identifier for the product\n",
    "UserId - unqiue identifier for the user\n",
    "ProfileName\n",
    "HelpfulnessNumerator - number of users who found the review helpful\n",
    "HelpfulnessDenominator - number of users who indicated whether they found the review helpful or not\n",
    "Score - rating between 1 and 5\n",
    "Time - timestamp for the review\n",
    "Summary - brief summary of the review\n",
    "Text - text of the review\n",
    "\n",
    "## Objective:\n",
    "Given a review, determine whether the review is positive (Rating of 4 or 5) or negative (rating of 1 or 2).\n",
    "\n",
    "\n",
    "[Q] How to determine if a review is positive or negative?\n",
    "\n",
    "[Ans] We could use the Score/Rating. A rating of 4 or 5 could be cosnidered a positive review. A review of 1 or 2 could be considered negative. A review of 3 is nuetral and ignored. This is an approximate and proxy way of determining the polarity (positivity/negativity) of a review.\n",
    "\n",
    "## Loading the data\n",
    "The dataset is available in two forms\n",
    "\n",
    ".csv file\n",
    "SQLite Database\n",
    "In order to load the data, We have used the SQLITE dataset as it easier to query the data and visualise the data efficiently. \n",
    "Here as we only want to get the global sentiment of the recommendations (positive or negative), we will purposefully ignore all Scores equal to 3. If the score id above 3, then the recommendation wil be set to \"positive\". Otherwise, it will be set to \"negative\"."
   ]
  },
  {
   "cell_type": "code",
   "execution_count": 1,
   "metadata": {},
   "outputs": [],
   "source": [
    "import warnings\n",
    "warnings.filterwarnings(\"ignore\")\n",
    "\n",
    "import sqlite3\n",
    "import pandas as pd\n",
    "import numpy as np\n",
    "import nltk\n",
    "import string\n",
    "import matplotlib.pyplot as plt\n",
    "import seaborn as sns\n",
    "\n",
    "from sklearn.feature_extraction.text import TfidfTransformer\n",
    "from sklearn.feature_extraction.text import TfidfVectorizer\n",
    "from sklearn.feature_extraction.text import CountVectorizer\n",
    "\n",
    "from sklearn.metrics import confusion_matrix\n",
    "from sklearn import metrics\n",
    "from sklearn.metrics import roc_curve, auc\n",
    "\n",
    "from nltk.stem.porter import PorterStemmer\n",
    "\n",
    "import re#regularexpressions\n",
    "import string\n",
    "from nltk.corpus import stopwords\n",
    "from nltk.stem import PorterStemmer\n",
    "from nltk.stem.wordnet import WordNetLemmatizer\n",
    "\n",
    "from gensim.models import Word2Vec\n",
    "from gensim.models import KeyedVectors\n",
    "import pickle\n",
    "\n",
    "from tqdm import tqdm\n",
    "import os\n"
   ]
  },
  {
   "cell_type": "code",
   "execution_count": 2,
   "metadata": {
    "scrolled": true
   },
   "outputs": [
    {
     "name": "stdout",
     "output_type": "stream",
     "text": [
      "(568454, 10)\n",
      "number of data points in our data are (5000, 10)\n"
     ]
    },
    {
     "data": {
      "text/html": [
       "<div>\n",
       "<style scoped>\n",
       "    .dataframe tbody tr th:only-of-type {\n",
       "        vertical-align: middle;\n",
       "    }\n",
       "\n",
       "    .dataframe tbody tr th {\n",
       "        vertical-align: top;\n",
       "    }\n",
       "\n",
       "    .dataframe thead th {\n",
       "        text-align: right;\n",
       "    }\n",
       "</style>\n",
       "<table border=\"1\" class=\"dataframe\">\n",
       "  <thead>\n",
       "    <tr style=\"text-align: right;\">\n",
       "      <th></th>\n",
       "      <th>Id</th>\n",
       "      <th>ProductId</th>\n",
       "      <th>UserId</th>\n",
       "      <th>ProfileName</th>\n",
       "      <th>HelpfulnessNumerator</th>\n",
       "      <th>HelpfulnessDenominator</th>\n",
       "      <th>Score</th>\n",
       "      <th>Time</th>\n",
       "      <th>Summary</th>\n",
       "      <th>Text</th>\n",
       "    </tr>\n",
       "  </thead>\n",
       "  <tbody>\n",
       "    <tr>\n",
       "      <th>0</th>\n",
       "      <td>1</td>\n",
       "      <td>B001E4KFG0</td>\n",
       "      <td>A3SGXH7AUHU8GW</td>\n",
       "      <td>delmartian</td>\n",
       "      <td>1</td>\n",
       "      <td>1</td>\n",
       "      <td>positive</td>\n",
       "      <td>1303862400</td>\n",
       "      <td>Good Quality Dog Food</td>\n",
       "      <td>I have bought several of the Vitality canned d...</td>\n",
       "    </tr>\n",
       "    <tr>\n",
       "      <th>1</th>\n",
       "      <td>2</td>\n",
       "      <td>B00813GRG4</td>\n",
       "      <td>A1D87F6ZCVE5NK</td>\n",
       "      <td>dll pa</td>\n",
       "      <td>0</td>\n",
       "      <td>0</td>\n",
       "      <td>negative</td>\n",
       "      <td>1346976000</td>\n",
       "      <td>Not as Advertised</td>\n",
       "      <td>Product arrived labeled as Jumbo Salted Peanut...</td>\n",
       "    </tr>\n",
       "  </tbody>\n",
       "</table>\n",
       "</div>"
      ],
      "text/plain": [
       "   Id   ProductId          UserId ProfileName  HelpfulnessNumerator  \\\n",
       "0   1  B001E4KFG0  A3SGXH7AUHU8GW  delmartian                     1   \n",
       "1   2  B00813GRG4  A1D87F6ZCVE5NK      dll pa                     0   \n",
       "\n",
       "   HelpfulnessDenominator     Score        Time                Summary  \\\n",
       "0                       1  positive  1303862400  Good Quality Dog Food   \n",
       "1                       0  negative  1346976000      Not as Advertised   \n",
       "\n",
       "                                                Text  \n",
       "0  I have bought several of the Vitality canned d...  \n",
       "1  Product arrived labeled as Jumbo Salted Peanut...  "
      ]
     },
     "execution_count": 2,
     "metadata": {},
     "output_type": "execute_result"
    }
   ],
   "source": [
    "d=pd.read_csv(\"Reviews.csv\")\n",
    "print(d.shape)\n",
    "con=sqlite3.connect('database.sqlite 2')\n",
    "\n",
    "filtered_data=pd.read_sql_query(\"\"\" SELECT * FROM Reviews WHERE Score!=3\n",
    "LIMIT 5000\"\"\", con)\n",
    "\n",
    "def partition(x):\n",
    "    if x<3:\n",
    "        return 'negative'\n",
    "    return 'positive'\n",
    "\n",
    "actualScore=filtered_data['Score']\n",
    "positivenegative=actualScore.map(partition)\n",
    "filtered_data['Score']=positivenegative\n",
    "print(\"number of data points in our data are\", filtered_data.shape)\n",
    "filtered_data.head(2)"
   ]
  },
  {
   "cell_type": "code",
   "execution_count": 3,
   "metadata": {},
   "outputs": [
    {
     "name": "stdout",
     "output_type": "stream",
     "text": [
      "Index(['Id', 'ProductId', 'UserId', 'ProfileName', 'HelpfulnessNumerator',\n",
      "       'HelpfulnessDenominator', 'Score', 'Time', 'Summary', 'Text'],\n",
      "      dtype='object')\n"
     ]
    }
   ],
   "source": [
    "print(filtered_data.columns)"
   ]
  },
  {
   "cell_type": "code",
   "execution_count": 4,
   "metadata": {},
   "outputs": [],
   "source": [
    "display=pd.read_sql_query(\"\"\"SELECT ProductId, UserId, ProfileName, Score, Time,COUNT(*)\n",
    "FROM Reviews\n",
    "GROUP BY UserId\n",
    "HAVING COUNT(*)>4\n",
    "\"\"\", con)"
   ]
  },
  {
   "cell_type": "code",
   "execution_count": 5,
   "metadata": {},
   "outputs": [
    {
     "name": "stdout",
     "output_type": "stream",
     "text": [
      "(23593, 6)\n"
     ]
    }
   ],
   "source": [
    "print(display.shape)#THIS IS THE REPEATED DATA IN "
   ]
  },
  {
   "cell_type": "code",
   "execution_count": 6,
   "metadata": {},
   "outputs": [
    {
     "data": {
      "text/html": [
       "<div>\n",
       "<style scoped>\n",
       "    .dataframe tbody tr th:only-of-type {\n",
       "        vertical-align: middle;\n",
       "    }\n",
       "\n",
       "    .dataframe tbody tr th {\n",
       "        vertical-align: top;\n",
       "    }\n",
       "\n",
       "    .dataframe thead th {\n",
       "        text-align: right;\n",
       "    }\n",
       "</style>\n",
       "<table border=\"1\" class=\"dataframe\">\n",
       "  <thead>\n",
       "    <tr style=\"text-align: right;\">\n",
       "      <th></th>\n",
       "      <th>ProductId</th>\n",
       "      <th>UserId</th>\n",
       "      <th>ProfileName</th>\n",
       "      <th>Score</th>\n",
       "      <th>Time</th>\n",
       "      <th>COUNT(*)</th>\n",
       "    </tr>\n",
       "  </thead>\n",
       "  <tbody>\n",
       "    <tr>\n",
       "      <th>0</th>\n",
       "      <td>B005DGI1PW</td>\n",
       "      <td>A1001WMV1CL0XH</td>\n",
       "      <td>Corey DePaul</td>\n",
       "      <td>5</td>\n",
       "      <td>1345334400</td>\n",
       "      <td>6</td>\n",
       "    </tr>\n",
       "    <tr>\n",
       "      <th>1</th>\n",
       "      <td>B001RV8CGK</td>\n",
       "      <td>A10023OS6MZUC6</td>\n",
       "      <td>Wilton Dubois</td>\n",
       "      <td>2</td>\n",
       "      <td>1274313600</td>\n",
       "      <td>5</td>\n",
       "    </tr>\n",
       "  </tbody>\n",
       "</table>\n",
       "</div>"
      ],
      "text/plain": [
       "    ProductId          UserId    ProfileName  Score        Time  COUNT(*)\n",
       "0  B005DGI1PW  A1001WMV1CL0XH   Corey DePaul      5  1345334400         6\n",
       "1  B001RV8CGK  A10023OS6MZUC6  Wilton Dubois      2  1274313600         5"
      ]
     },
     "execution_count": 6,
     "metadata": {},
     "output_type": "execute_result"
    }
   ],
   "source": [
    "display.head(2)"
   ]
  },
  {
   "cell_type": "code",
   "execution_count": 7,
   "metadata": {},
   "outputs": [
    {
     "data": {
      "text/plain": [
       "243907"
      ]
     },
     "execution_count": 7,
     "metadata": {},
     "output_type": "execute_result"
    }
   ],
   "source": [
    "display['COUNT(*)'].sum()"
   ]
  },
  {
   "cell_type": "markdown",
   "metadata": {},
   "source": [
    "# Data Cleaning"
   ]
  },
  {
   "cell_type": "markdown",
   "metadata": {},
   "source": [
    "### [2] Data cleaning: de duplication\n",
    "- in the give dataset from kaggle.com i noticed that their is lots of data which is repeting in this dataset. So, here i clean the data to make the data more obserbable for every person who is going to read this data. Hence it is necessary to remove the dulicates."
   ]
  },
  {
   "cell_type": "code",
   "execution_count": 8,
   "metadata": {},
   "outputs": [
    {
     "data": {
      "text/html": [
       "<div>\n",
       "<style scoped>\n",
       "    .dataframe tbody tr th:only-of-type {\n",
       "        vertical-align: middle;\n",
       "    }\n",
       "\n",
       "    .dataframe tbody tr th {\n",
       "        vertical-align: top;\n",
       "    }\n",
       "\n",
       "    .dataframe thead th {\n",
       "        text-align: right;\n",
       "    }\n",
       "</style>\n",
       "<table border=\"1\" class=\"dataframe\">\n",
       "  <thead>\n",
       "    <tr style=\"text-align: right;\">\n",
       "      <th></th>\n",
       "      <th>Id</th>\n",
       "      <th>ProductId</th>\n",
       "      <th>UserId</th>\n",
       "      <th>ProfileName</th>\n",
       "      <th>HelpfulnessNumerator</th>\n",
       "      <th>HelpfulnessDenominator</th>\n",
       "      <th>Score</th>\n",
       "      <th>Time</th>\n",
       "      <th>Summary</th>\n",
       "      <th>Text</th>\n",
       "    </tr>\n",
       "  </thead>\n",
       "  <tbody>\n",
       "    <tr>\n",
       "      <th>0</th>\n",
       "      <td>78445</td>\n",
       "      <td>B000HDL1RQ</td>\n",
       "      <td>AR5J8UI46CURR</td>\n",
       "      <td>Geetha Krishnan</td>\n",
       "      <td>2</td>\n",
       "      <td>2</td>\n",
       "      <td>5</td>\n",
       "      <td>1199577600</td>\n",
       "      <td>LOACKER QUADRATINI VANILLA WAFERS</td>\n",
       "      <td>DELICIOUS WAFERS. I FIND THAT EUROPEAN WAFERS ...</td>\n",
       "    </tr>\n",
       "    <tr>\n",
       "      <th>1</th>\n",
       "      <td>138317</td>\n",
       "      <td>B000HDOPYC</td>\n",
       "      <td>AR5J8UI46CURR</td>\n",
       "      <td>Geetha Krishnan</td>\n",
       "      <td>2</td>\n",
       "      <td>2</td>\n",
       "      <td>5</td>\n",
       "      <td>1199577600</td>\n",
       "      <td>LOACKER QUADRATINI VANILLA WAFERS</td>\n",
       "      <td>DELICIOUS WAFERS. I FIND THAT EUROPEAN WAFERS ...</td>\n",
       "    </tr>\n",
       "    <tr>\n",
       "      <th>2</th>\n",
       "      <td>138277</td>\n",
       "      <td>B000HDOPYM</td>\n",
       "      <td>AR5J8UI46CURR</td>\n",
       "      <td>Geetha Krishnan</td>\n",
       "      <td>2</td>\n",
       "      <td>2</td>\n",
       "      <td>5</td>\n",
       "      <td>1199577600</td>\n",
       "      <td>LOACKER QUADRATINI VANILLA WAFERS</td>\n",
       "      <td>DELICIOUS WAFERS. I FIND THAT EUROPEAN WAFERS ...</td>\n",
       "    </tr>\n",
       "    <tr>\n",
       "      <th>3</th>\n",
       "      <td>73791</td>\n",
       "      <td>B000HDOPZG</td>\n",
       "      <td>AR5J8UI46CURR</td>\n",
       "      <td>Geetha Krishnan</td>\n",
       "      <td>2</td>\n",
       "      <td>2</td>\n",
       "      <td>5</td>\n",
       "      <td>1199577600</td>\n",
       "      <td>LOACKER QUADRATINI VANILLA WAFERS</td>\n",
       "      <td>DELICIOUS WAFERS. I FIND THAT EUROPEAN WAFERS ...</td>\n",
       "    </tr>\n",
       "    <tr>\n",
       "      <th>4</th>\n",
       "      <td>155049</td>\n",
       "      <td>B000PAQ75C</td>\n",
       "      <td>AR5J8UI46CURR</td>\n",
       "      <td>Geetha Krishnan</td>\n",
       "      <td>2</td>\n",
       "      <td>2</td>\n",
       "      <td>5</td>\n",
       "      <td>1199577600</td>\n",
       "      <td>LOACKER QUADRATINI VANILLA WAFERS</td>\n",
       "      <td>DELICIOUS WAFERS. I FIND THAT EUROPEAN WAFERS ...</td>\n",
       "    </tr>\n",
       "  </tbody>\n",
       "</table>\n",
       "</div>"
      ],
      "text/plain": [
       "       Id   ProductId         UserId      ProfileName  HelpfulnessNumerator  \\\n",
       "0   78445  B000HDL1RQ  AR5J8UI46CURR  Geetha Krishnan                     2   \n",
       "1  138317  B000HDOPYC  AR5J8UI46CURR  Geetha Krishnan                     2   \n",
       "2  138277  B000HDOPYM  AR5J8UI46CURR  Geetha Krishnan                     2   \n",
       "3   73791  B000HDOPZG  AR5J8UI46CURR  Geetha Krishnan                     2   \n",
       "4  155049  B000PAQ75C  AR5J8UI46CURR  Geetha Krishnan                     2   \n",
       "\n",
       "   HelpfulnessDenominator  Score        Time  \\\n",
       "0                       2      5  1199577600   \n",
       "1                       2      5  1199577600   \n",
       "2                       2      5  1199577600   \n",
       "3                       2      5  1199577600   \n",
       "4                       2      5  1199577600   \n",
       "\n",
       "                             Summary  \\\n",
       "0  LOACKER QUADRATINI VANILLA WAFERS   \n",
       "1  LOACKER QUADRATINI VANILLA WAFERS   \n",
       "2  LOACKER QUADRATINI VANILLA WAFERS   \n",
       "3  LOACKER QUADRATINI VANILLA WAFERS   \n",
       "4  LOACKER QUADRATINI VANILLA WAFERS   \n",
       "\n",
       "                                                Text  \n",
       "0  DELICIOUS WAFERS. I FIND THAT EUROPEAN WAFERS ...  \n",
       "1  DELICIOUS WAFERS. I FIND THAT EUROPEAN WAFERS ...  \n",
       "2  DELICIOUS WAFERS. I FIND THAT EUROPEAN WAFERS ...  \n",
       "3  DELICIOUS WAFERS. I FIND THAT EUROPEAN WAFERS ...  \n",
       "4  DELICIOUS WAFERS. I FIND THAT EUROPEAN WAFERS ...  "
      ]
     },
     "execution_count": 8,
     "metadata": {},
     "output_type": "execute_result"
    }
   ],
   "source": [
    "display=pd.read_sql_query(\"\"\"\n",
    "SELECT * FROM Reviews\n",
    "WHERE Score!=3 AND UserId=\"AR5J8UI46CURR\"\n",
    "ORDER BY ProductId\"\"\",con)\n",
    "display"
   ]
  },
  {
   "cell_type": "markdown",
   "metadata": {},
   "source": [
    "- IN THE ABOVE OUTPUT WE CAN SEE THAT THEIR IS A 5 COMMENT AT THE SAME TIME BY A SAME USER. THIS IS WHAT WE CALLED DUPLICATES"
   ]
  },
  {
   "cell_type": "code",
   "execution_count": 9,
   "metadata": {},
   "outputs": [
    {
     "data": {
      "text/html": [
       "<div>\n",
       "<style scoped>\n",
       "    .dataframe tbody tr th:only-of-type {\n",
       "        vertical-align: middle;\n",
       "    }\n",
       "\n",
       "    .dataframe tbody tr th {\n",
       "        vertical-align: top;\n",
       "    }\n",
       "\n",
       "    .dataframe thead th {\n",
       "        text-align: right;\n",
       "    }\n",
       "</style>\n",
       "<table border=\"1\" class=\"dataframe\">\n",
       "  <thead>\n",
       "    <tr style=\"text-align: right;\">\n",
       "      <th></th>\n",
       "      <th>Id</th>\n",
       "      <th>ProductId</th>\n",
       "      <th>UserId</th>\n",
       "      <th>ProfileName</th>\n",
       "      <th>HelpfulnessNumerator</th>\n",
       "      <th>HelpfulnessDenominator</th>\n",
       "      <th>Score</th>\n",
       "      <th>Time</th>\n",
       "      <th>Summary</th>\n",
       "      <th>Text</th>\n",
       "    </tr>\n",
       "  </thead>\n",
       "  <tbody>\n",
       "    <tr>\n",
       "      <th>4999</th>\n",
       "      <td>5427</td>\n",
       "      <td>B00622CYVS</td>\n",
       "      <td>A3EPC08TVAPA0N</td>\n",
       "      <td>Krissia</td>\n",
       "      <td>0</td>\n",
       "      <td>3</td>\n",
       "      <td>negative</td>\n",
       "      <td>1340582400</td>\n",
       "      <td>Waste of time.</td>\n",
       "      <td>My baby loves this food.  At whole foods they ...</td>\n",
       "    </tr>\n",
       "    <tr>\n",
       "      <th>4998</th>\n",
       "      <td>5426</td>\n",
       "      <td>B00622CYVS</td>\n",
       "      <td>A2NYT3UXUTBY23</td>\n",
       "      <td>C&amp;GHoll</td>\n",
       "      <td>1</td>\n",
       "      <td>3</td>\n",
       "      <td>negative</td>\n",
       "      <td>1249603200</td>\n",
       "      <td>Wrong item shipped</td>\n",
       "      <td>We ordered the Earth's best 2nd dinner variety...</td>\n",
       "    </tr>\n",
       "    <tr>\n",
       "      <th>4997</th>\n",
       "      <td>5425</td>\n",
       "      <td>B00622CYVS</td>\n",
       "      <td>A2YHXAZLCLDT8D</td>\n",
       "      <td>Mark Smith \"Food lover\"</td>\n",
       "      <td>0</td>\n",
       "      <td>1</td>\n",
       "      <td>positive</td>\n",
       "      <td>1236988800</td>\n",
       "      <td>Dinner time is Earths Best TIme !!</td>\n",
       "      <td>My little guy loves to try new foods..so this ...</td>\n",
       "    </tr>\n",
       "    <tr>\n",
       "      <th>4996</th>\n",
       "      <td>5424</td>\n",
       "      <td>B00622CYVS</td>\n",
       "      <td>A32DHN8U74GCAR</td>\n",
       "      <td>Granola Girl \"michele j.\"</td>\n",
       "      <td>0</td>\n",
       "      <td>1</td>\n",
       "      <td>positive</td>\n",
       "      <td>1240790400</td>\n",
       "      <td>Food Delivery</td>\n",
       "      <td>This is great!  Organic baby food options - de...</td>\n",
       "    </tr>\n",
       "    <tr>\n",
       "      <th>4995</th>\n",
       "      <td>5423</td>\n",
       "      <td>B00622CYVS</td>\n",
       "      <td>A17ASMX6QMO6XY</td>\n",
       "      <td>E. Harvill</td>\n",
       "      <td>0</td>\n",
       "      <td>1</td>\n",
       "      <td>negative</td>\n",
       "      <td>1277424000</td>\n",
       "      <td>Not so tasty...</td>\n",
       "      <td>My baby didn't seem into these dinners, so I t...</td>\n",
       "    </tr>\n",
       "  </tbody>\n",
       "</table>\n",
       "</div>"
      ],
      "text/plain": [
       "        Id   ProductId          UserId                ProfileName  \\\n",
       "4999  5427  B00622CYVS  A3EPC08TVAPA0N                    Krissia   \n",
       "4998  5426  B00622CYVS  A2NYT3UXUTBY23                    C&GHoll   \n",
       "4997  5425  B00622CYVS  A2YHXAZLCLDT8D    Mark Smith \"Food lover\"   \n",
       "4996  5424  B00622CYVS  A32DHN8U74GCAR  Granola Girl \"michele j.\"   \n",
       "4995  5423  B00622CYVS  A17ASMX6QMO6XY                 E. Harvill   \n",
       "\n",
       "      HelpfulnessNumerator  HelpfulnessDenominator     Score        Time  \\\n",
       "4999                     0                       3  negative  1340582400   \n",
       "4998                     1                       3  negative  1249603200   \n",
       "4997                     0                       1  positive  1236988800   \n",
       "4996                     0                       1  positive  1240790400   \n",
       "4995                     0                       1  negative  1277424000   \n",
       "\n",
       "                                 Summary  \\\n",
       "4999                      Waste of time.   \n",
       "4998                  Wrong item shipped   \n",
       "4997  Dinner time is Earths Best TIme !!   \n",
       "4996                       Food Delivery   \n",
       "4995                     Not so tasty...   \n",
       "\n",
       "                                                   Text  \n",
       "4999  My baby loves this food.  At whole foods they ...  \n",
       "4998  We ordered the Earth's best 2nd dinner variety...  \n",
       "4997  My little guy loves to try new foods..so this ...  \n",
       "4996  This is great!  Organic baby food options - de...  \n",
       "4995  My baby didn't seem into these dinners, so I t...  "
      ]
     },
     "execution_count": 9,
     "metadata": {},
     "output_type": "execute_result"
    }
   ],
   "source": [
    "sorted_data=filtered_data.sort_values('Id', axis=0, ascending=False, inplace=False, kind='quicksort', na_position='last')\n",
    "sorted_data.head(5)   \n",
    "# na_position=first puts NaNs at the beginning, last puts NaNs=\"not a numbers\" at the end\n"
   ]
  },
  {
   "cell_type": "markdown",
   "metadata": {},
   "source": [
    "### HERE WE ARE REMOVING THOSE DATA WHICH IS DUPLICATE"
   ]
  },
  {
   "cell_type": "code",
   "execution_count": 10,
   "metadata": {},
   "outputs": [
    {
     "data": {
      "text/plain": [
       "(4986, 10)"
      ]
     },
     "execution_count": 10,
     "metadata": {},
     "output_type": "execute_result"
    }
   ],
   "source": [
    "final=sorted_data.drop_duplicates(subset={\"UserId\",\"ProfileName\",\"Time\",\"Text\"},keep=\"first\",inplace=False)#inplace=Whether to drop duplicates in place or to return a copy\n",
    "final.shape"
   ]
  },
  {
   "cell_type": "code",
   "execution_count": 11,
   "metadata": {},
   "outputs": [
    {
     "data": {
      "text/plain": [
       "99.72"
      ]
     },
     "execution_count": 11,
     "metadata": {},
     "output_type": "execute_result"
    }
   ],
   "source": [
    "(final.size)/(filtered_data.size)*100"
   ]
  },
  {
   "cell_type": "markdown",
   "metadata": {},
   "source": [
    "<b>Point to Remember:- </b> It was also seen that the value of HelpfulnessNumerator is greater than HelpfulnessDenominator which is not practically possible."
   ]
  },
  {
   "cell_type": "code",
   "execution_count": 12,
   "metadata": {},
   "outputs": [
    {
     "data": {
      "text/html": [
       "<div>\n",
       "<style scoped>\n",
       "    .dataframe tbody tr th:only-of-type {\n",
       "        vertical-align: middle;\n",
       "    }\n",
       "\n",
       "    .dataframe tbody tr th {\n",
       "        vertical-align: top;\n",
       "    }\n",
       "\n",
       "    .dataframe thead th {\n",
       "        text-align: right;\n",
       "    }\n",
       "</style>\n",
       "<table border=\"1\" class=\"dataframe\">\n",
       "  <thead>\n",
       "    <tr style=\"text-align: right;\">\n",
       "      <th></th>\n",
       "      <th>Id</th>\n",
       "      <th>ProductId</th>\n",
       "      <th>UserId</th>\n",
       "      <th>ProfileName</th>\n",
       "      <th>HelpfulnessNumerator</th>\n",
       "      <th>HelpfulnessDenominator</th>\n",
       "      <th>Score</th>\n",
       "      <th>Time</th>\n",
       "      <th>Summary</th>\n",
       "      <th>Text</th>\n",
       "    </tr>\n",
       "  </thead>\n",
       "  <tbody>\n",
       "    <tr>\n",
       "      <th>0</th>\n",
       "      <td>64422</td>\n",
       "      <td>B000MIDROQ</td>\n",
       "      <td>A161DK06JJMCYF</td>\n",
       "      <td>J. E. Stephens \"Jeanne\"</td>\n",
       "      <td>3</td>\n",
       "      <td>1</td>\n",
       "      <td>5</td>\n",
       "      <td>1224892800</td>\n",
       "      <td>Bought This for My Son at College</td>\n",
       "      <td>My son loves spaghetti so I didn't hesitate or...</td>\n",
       "    </tr>\n",
       "    <tr>\n",
       "      <th>1</th>\n",
       "      <td>44737</td>\n",
       "      <td>B001EQ55RW</td>\n",
       "      <td>A2V0I904FH7ABY</td>\n",
       "      <td>Ram</td>\n",
       "      <td>3</td>\n",
       "      <td>2</td>\n",
       "      <td>4</td>\n",
       "      <td>1212883200</td>\n",
       "      <td>Pure cocoa taste with crunchy almonds inside</td>\n",
       "      <td>It was almost a 'love at first bite' - the per...</td>\n",
       "    </tr>\n",
       "  </tbody>\n",
       "</table>\n",
       "</div>"
      ],
      "text/plain": [
       "      Id   ProductId          UserId              ProfileName  \\\n",
       "0  64422  B000MIDROQ  A161DK06JJMCYF  J. E. Stephens \"Jeanne\"   \n",
       "1  44737  B001EQ55RW  A2V0I904FH7ABY                      Ram   \n",
       "\n",
       "   HelpfulnessNumerator  HelpfulnessDenominator  Score        Time  \\\n",
       "0                     3                       1      5  1224892800   \n",
       "1                     3                       2      4  1212883200   \n",
       "\n",
       "                                        Summary  \\\n",
       "0             Bought This for My Son at College   \n",
       "1  Pure cocoa taste with crunchy almonds inside   \n",
       "\n",
       "                                                Text  \n",
       "0  My son loves spaghetti so I didn't hesitate or...  \n",
       "1  It was almost a 'love at first bite' - the per...  "
      ]
     },
     "execution_count": 12,
     "metadata": {},
     "output_type": "execute_result"
    }
   ],
   "source": [
    "display=pd.read_sql_query(\"\"\"\n",
    "SELECT * FROM Reviews WHERE HelpfulnessNumerator>HelpfulnessDenominator\n",
    "ORDER BY ProductId\"\"\",con)\n",
    "display"
   ]
  },
  {
   "cell_type": "markdown",
   "metadata": {},
   "source": [
    "- Hence these two rows too are removed from calcualtions"
   ]
  },
  {
   "cell_type": "code",
   "execution_count": 13,
   "metadata": {},
   "outputs": [
    {
     "data": {
      "text/plain": [
       "(4986, 10)"
      ]
     },
     "execution_count": 13,
     "metadata": {},
     "output_type": "execute_result"
    }
   ],
   "source": [
    "final.shape"
   ]
  },
  {
   "cell_type": "code",
   "execution_count": 14,
   "metadata": {},
   "outputs": [],
   "source": [
    "final=final[final.HelpfulnessNumerator<=final.HelpfulnessDenominator]"
   ]
  },
  {
   "cell_type": "code",
   "execution_count": 15,
   "metadata": {},
   "outputs": [
    {
     "name": "stdout",
     "output_type": "stream",
     "text": [
      "(4986, 10)\n"
     ]
    }
   ],
   "source": [
    "print(final.shape)"
   ]
  },
  {
   "cell_type": "code",
   "execution_count": 16,
   "metadata": {},
   "outputs": [
    {
     "data": {
      "text/plain": [
       "positive    4178\n",
       "negative     808\n",
       "Name: Score, dtype: int64"
      ]
     },
     "execution_count": 16,
     "metadata": {},
     "output_type": "execute_result"
    }
   ],
   "source": [
    "final['Score'].value_counts()"
   ]
  },
  {
   "cell_type": "markdown",
   "metadata": {},
   "source": [
    "# THIS IS HOW WE GET ANY RANDOM VALUE FROM THE DATASET"
   ]
  },
  {
   "cell_type": "code",
   "execution_count": 17,
   "metadata": {},
   "outputs": [
    {
     "name": "stdout",
     "output_type": "stream",
     "text": [
      "My baby loves this food.  At whole foods they sell the same flat for 10.99 and thats retail.  I ordered this and just received it today.  I hadn't even opened package and I could smell a rotten smell coming from box. I opened it to find jar smashed and mold everywhere! I'm so disgusted and can't believe I waited over a week for this to arrive.  What a waste of my time.  The worst part is I ordered the fruit flat as well and also a broken jar and rotten mold everywhere.  I don't get how this happens the  shipping box isn't dented or damaged neither is the flat box.  So what someone packaged and sent a smashed and rotting shipment? Not a happy customer!\n"
     ]
    }
   ],
   "source": [
    "review_0=final['Text'].values[0]\n",
    "print(review_0) "
   ]
  },
  {
   "cell_type": "code",
   "execution_count": 18,
   "metadata": {},
   "outputs": [
    {
     "name": "stdout",
     "output_type": "stream",
     "text": [
      "This gum is delicious and since my first pack I have been hooked.  I love the Mint Chocolate Chip after meals, and the Key Lime Pie is delectable at all other times.<br /><br />At $15/10 pack on Amazon, it's not really a deal, though, considering this is only a $1 a pack at target or mcwallymart.  Once the price of a 10-pack drops to about $10 or $11 I might consider buying it online if only out of pure laziness, but a 50% premium is not really worth it.\n"
     ]
    }
   ],
   "source": [
    "review_1000=final['Text'].values[69]\n",
    "print(review_1000) "
   ]
  },
  {
   "cell_type": "markdown",
   "metadata": {},
   "source": [
    "###### THIS IS HOW WE REMOVE URLS FROM TEXT IN PYTHON"
   ]
  },
  {
   "cell_type": "code",
   "execution_count": 19,
   "metadata": {
    "scrolled": true
   },
   "outputs": [
    {
     "name": "stdout",
     "output_type": "stream",
     "text": [
      "This gum is delicious and since my first pack I have been hooked.  I love the Mint Chocolate Chip after meals, and the Key Lime Pie is delectable at all other times.<br /><br />At $15/10 pack on Amazon, it's not really a deal, though, considering this is only a $1 a pack at target or mcwallymart.  Once the price of a 10-pack drops to about $10 or $11 I might consider buying it online if only out of pure laziness, but a 50% premium is not really worth it.\n"
     ]
    }
   ],
   "source": [
    "review_1000=re.sub(r\"http\\S+\",\"\",review_1000)\n",
    "print(review_1000)"
   ]
  },
  {
   "cell_type": "markdown",
   "metadata": {},
   "source": [
    "#### FOR REMOVING ALL THE TAG ELEMENTS FROM SUMMARY WE USE <u>BeautifulSoup</u> from <u>bs4</u>"
   ]
  },
  {
   "cell_type": "code",
   "execution_count": 20,
   "metadata": {},
   "outputs": [
    {
     "name": "stdout",
     "output_type": "stream",
     "text": [
      "This gum is delicious and since my first pack I have been hooked.  I love the Mint Chocolate Chip after meals, and the Key Lime Pie is delectable at all other times.At $15/10 pack on Amazon, it's not really a deal, though, considering this is only a $1 a pack at target or mcwallymart.  Once the price of a 10-pack drops to about $10 or $11 I might consider buying it online if only out of pure laziness, but a 50% premium is not really worth it.\n"
     ]
    }
   ],
   "source": [
    "from bs4 import BeautifulSoup\n",
    "soup=BeautifulSoup(review_1000, 'lxml')\n",
    "text=soup.get_text()\n",
    "print(text)"
   ]
  },
  {
   "cell_type": "markdown",
   "metadata": {},
   "source": [
    "- HERE AS WE CAN SEE THAT THE TAGS ARE REMOVED NOW IN THE ABOVE OUTPUT"
   ]
  },
  {
   "cell_type": "code",
   "execution_count": 21,
   "metadata": {},
   "outputs": [],
   "source": [
    "import re#regular expression\n",
    "\n",
    "def decontracted(phrase):\n",
    "    # specific\n",
    "    phrase = re.sub(r\"won't\", \"will not\", phrase)\n",
    "    phrase = re.sub(r\"can\\'t\", \"can not\", phrase)\n",
    "\n",
    "    # general\n",
    "    phrase = re.sub(r\"n\\'t\", \" not\", phrase)\n",
    "    phrase = re.sub(r\"\\'re\", \" are\", phrase)\n",
    "    phrase = re.sub(r\"\\'s\", \" is\", phrase)\n",
    "    phrase = re.sub(r\"\\'d\", \" would\", phrase)\n",
    "    phrase = re.sub(r\"\\'ll\", \" will\", phrase)\n",
    "    phrase = re.sub(r\"\\'t\", \" not\", phrase)\n",
    "    phrase = re.sub(r\"\\'ve\", \" have\", phrase)\n",
    "    phrase = re.sub(r\"\\'m\", \" am\", phrase)\n",
    "    return phrase"
   ]
  },
  {
   "cell_type": "code",
   "execution_count": 22,
   "metadata": {},
   "outputs": [
    {
     "name": "stdout",
     "output_type": "stream",
     "text": [
      "This gum is delicious and since my first pack I have been hooked.  I love the Mint Chocolate Chip after meals, and the Key Lime Pie is delectable at all other times.<br /><br />At $15/10 pack on Amazon, it is not really a deal, though, considering this is only a $1 a pack at target or mcwallymart.  Once the price of a 10-pack drops to about $10 or $11 I might consider buying it online if only out of pure laziness, but a 50% premium is not really worth it.\n"
     ]
    }
   ],
   "source": [
    "review_1000=decontracted(review_1000)\n",
    "print(review_1000)"
   ]
  },
  {
   "cell_type": "markdown",
   "metadata": {},
   "source": [
    "- the above output consist of too many numerical values. so lets remove them by using .sub function from 're' module"
   ]
  },
  {
   "cell_type": "code",
   "execution_count": 23,
   "metadata": {},
   "outputs": [
    {
     "name": "stdout",
     "output_type": "stream",
     "text": [
      "This gum is delicious and since my first pack I have been hooked.  I love the Mint Chocolate Chip after meals, and the Key Lime Pie is delectable at all other times.<br /><br />At  pack on Amazon, it is not really a deal, though, considering this is only a  a pack at target or mcwallymart.  Once the price of a  drops to about  or  I might consider buying it online if only out of pure laziness, but a  premium is not really worth it.\n"
     ]
    }
   ],
   "source": [
    "#THIS IS HOW WE CAN REMOVE WORDS WITH NUMBERS.\n",
    "review_1000=re.sub(\"\\S*\\d\\S*\",\"\",review_1000).strip()\n",
    "print(review_1000)"
   ]
  },
  {
   "cell_type": "code",
   "execution_count": 24,
   "metadata": {},
   "outputs": [
    {
     "name": "stdout",
     "output_type": "stream",
     "text": [
      " T h i s  g u m  i s  d e l i c i o u s  a n d  s i n c e  m y  f i r s t  p a c k  I  h a v e  b e e n  h o o k e d  I  l o v e  t h e  M i n t  C h o c o l a t e  C h i p  a f t e r  m e a l s  a n d  t h e  K e y  L i m e  P i e  i s  d e l e c t a b l e  a t  a l l  o t h e r  t i m e s  b r  b r  A t  p a c k  o n  A m a z o n  i t  i s  n o t  r e a l l y  a  d e a l  t h o u g h  c o n s i d e r i n g  t h i s  i s  o n l y  a  a  p a c k  a t  t a r g e t  o r  m c w a l l y m a r t  O n c e  t h e  p r i c e  o f  a  d r o p s  t o  a b o u t  o r  I  m i g h t  c o n s i d e r  b u y i n g  i t  o n l i n e  i f  o n l y  o u t  o f  p u r e  l a z i n e s s  b u t  a  p r e m i u m  i s  n o t  r e a l l y  w o r t h  i t  \n"
     ]
    }
   ],
   "source": [
    "#removal of special characters\n",
    "review_1000=re.sub('[^A-Za-z0-9]*', ' ',review_1000)\n",
    "print(review_1000)"
   ]
  },
  {
   "cell_type": "code",
   "execution_count": 25,
   "metadata": {},
   "outputs": [],
   "source": [
    "stopwords= set(['br', 'the', 'i', 'me', 'my', 'myself', 'we', 'our', 'ours', 'ourselves', 'you', \"you're\", \"you've\",\\\n",
    "            \"you'll\", \"you'd\", 'your', 'yours', 'yourself', 'yourselves', 'he', 'him', 'his', 'himself', \\\n",
    "            'she', \"she's\", 'her', 'hers', 'herself', 'it', \"it's\", 'its', 'itself', 'they', 'them', 'their',\\\n",
    "            'theirs', 'themselves', 'what', 'which', 'who', 'whom', 'this', 'that', \"that'll\", 'these', 'those', \\\n",
    "            'am', 'is', 'are', 'was', 'were', 'be', 'been', 'being', 'have', 'has', 'had', 'having', 'do', 'does', \\\n",
    "            'did', 'doing', 'a', 'an', 'the', 'and', 'but', 'if', 'or', 'because', 'as', 'until', 'while', 'of', \\\n",
    "            'at', 'by', 'for', 'with', 'about', 'against', 'between', 'into', 'through', 'during', 'before', 'after',\\\n",
    "            'above', 'below', 'to', 'from', 'up', 'down', 'in', 'out', 'on', 'off', 'over', 'under', 'again', 'further',\\\n",
    "            'then', 'once', 'here', 'there', 'when', 'where', 'why', 'how', 'all', 'any', 'both', 'each', 'few', 'more',\\\n",
    "            'most', 'other', 'some', 'such', 'only', 'own', 'same', 'so', 'than', 'too', 'very', \\\n",
    "            's', 't', 'can', 'will', 'just', 'don', \"don't\", 'should', \"should've\", 'now', 'd', 'll', 'm', 'o', 're', \\\n",
    "            've', 'y', 'ain', 'aren', \"aren't\", 'couldn', \"couldn't\", 'didn', \"didn't\", 'doesn', \"doesn't\", 'hadn',\\\n",
    "            \"hadn't\", 'hasn', \"hasn't\", 'haven', \"haven't\", 'isn', \"isn't\", 'ma', 'mightn', \"mightn't\", 'mustn',\\\n",
    "            \"mustn't\", 'needn', \"needn't\", 'shan', \"shan't\", 'shouldn', \"shouldn't\", 'wasn', \"wasn't\", 'weren', \"weren't\", \\\n",
    "            'won', \"won't\", 'wouldn', \"wouldn't\"])"
   ]
  },
  {
   "cell_type": "code",
   "execution_count": 26,
   "metadata": {},
   "outputs": [
    {
     "name": "stderr",
     "output_type": "stream",
     "text": [
      "100%|██████████| 4986/4986 [00:02<00:00, 2109.85it/s]\n"
     ]
    }
   ],
   "source": [
    "from tqdm import tqdm\n",
    "preprocessed_reviews = []\n",
    "# tqdm is for printing the status bar\n",
    "for sentance in tqdm(final['Text'].values):\n",
    "    sentance = re.sub(r\"http\\S+\", \"\", sentance)\n",
    "    sentance = BeautifulSoup(sentance, 'lxml').get_text()\n",
    "    sentance = decontracted(sentance)\n",
    "    sentance = re.sub(\"\\S*\\d\\S*\", \"\", sentance).strip()\n",
    "    sentance = re.sub('[^A-Za-z]+', ' ', sentance)\n",
    " \n",
    "    sentance = ' '.join(e.lower() for e in sentance.split() if e.lower() not in stopwords)\n",
    "    preprocessed_reviews.append(sentance.strip())\n",
    "    \n",
    "    "
   ]
  },
  {
   "cell_type": "code",
   "execution_count": 27,
   "metadata": {
    "scrolled": true
   },
   "outputs": [
    {
     "name": "stdout",
     "output_type": "stream",
     "text": [
      "picked package airport layover since not back lax soon decided check amazon oz package cost airport get small price break buying triple packs wow flavor amazing not know reviewer got bad batch mine crunchy walnuts smoothest slightly sweet tasting thick dark chocolate coating one bite hooked looking sweet treat sweetie look no every adult easter basket christmas stocking not raved candy like since see dark chocolate covered raspberry cremes like walnuts dark chocolate absolutely love taste pleasurable hard describe ordered packages use gifts amazon need start selling use prime shipping fly shelf promise ingredients organic walnuts organic ark chocolate coating ooh organic chocolate liquour soy lethicin tasty smooth contains small amounts milk soy wheat egg manufactured plant processes peanuts made usa tropical valley foods yes melt hand hot sun forewarned\n"
     ]
    }
   ],
   "source": [
    "print(preprocessed_reviews[100])"
   ]
  },
  {
   "cell_type": "markdown",
   "metadata": {},
   "source": [
    "- everything written inside above [ ] are just like as the index number "
   ]
  },
  {
   "cell_type": "markdown",
   "metadata": {},
   "source": [
    "# BAG OF WORDS"
   ]
  },
  {
   "cell_type": "code",
   "execution_count": 28,
   "metadata": {},
   "outputs": [
    {
     "name": "stdout",
     "output_type": "stream",
     "text": [
      "some features names ['aa', 'aahhhs', 'aback', 'abandon', 'abates']\n",
      "==================================================\n",
      "the type of count vectorizer is  <class 'scipy.sparse.csr.csr_matrix'>\n",
      "the shape of text BOW vectorizer is  (4986, 12997)\n",
      "the number of unique words are  12997\n"
     ]
    }
   ],
   "source": [
    "count_vect=CountVectorizer() #this is present in scikit learn \n",
    "count_vect.fit(preprocessed_reviews)\n",
    "print(\"some features names\",count_vect.get_feature_names()[0:5])\n",
    "print(\"=\"*50)\n",
    "final_counts=count_vect.transform(preprocessed_reviews)\n",
    "print(\"the type of count vectorizer is \",type(final_counts))\n",
    "print(\"the shape of text BOW vectorizer is \",final_counts.get_shape())\n",
    "print(\"the number of unique words are \",final_counts.get_shape()[1])"
   ]
  },
  {
   "cell_type": "markdown",
   "metadata": {},
   "source": [
    "- <b>OBSERVATION:</b> in the above code we are using .get_shape in place of .shape()\n",
    "otherwise it will show an error as tuple objects are not callable"
   ]
  },
  {
   "cell_type": "markdown",
   "metadata": {},
   "source": [
    "## OBJECTIVE OF TSNE"
   ]
  },
  {
   "cell_type": "markdown",
   "metadata": {},
   "source": [
    "BY PLOTTING THE TSNE WE LEARN THAT HOW WE HAVE TO REDUCE THE DIMENSIONS OF DATA WHICH HELPS THE READER IN UNDERSTANDING THE HIGH DIMENSIONAL DATA INTO 2D OR 3D"
   ]
  },
  {
   "cell_type": "markdown",
   "metadata": {},
   "source": [
    "# TSNE ON BAG OF WORDS"
   ]
  },
  {
   "cell_type": "code",
   "execution_count": 29,
   "metadata": {},
   "outputs": [
    {
     "name": "stdout",
     "output_type": "stream",
     "text": [
      "shape of tsne reduced data= (4986, 12997)\n"
     ]
    },
    {
     "data": {
      "image/png": "[encoded data removed]",
      "text/plain": [
       "<Figure size 511.75x432 with 1 Axes>"
      ]
     },
     "metadata": {
      "needs_background": "light"
     },
     "output_type": "display_data"
    }
   ],
   "source": [
    "from sklearn.manifold import TSNE\n",
    "\n",
    "tsne=final_counts[0:5000,:]\n",
    "\n",
    "label_5000 = final['Score'][0:5000].values.reshape(-1, 1)  \n",
    "\n",
    "model=TSNE(n_components=2,random_state=0)\n",
    "\n",
    "print(\"shape of tsne reduced data=\",tsne.shape)\n",
    "\n",
    "model = TSNE(n_components=2, random_state=0, perplexity= 30, n_iter= 5000)\n",
    "\n",
    "tsne_data = model.fit_transform(tsne.toarray())\n",
    "\n",
    "tsne_data=np.hstack((tsne_data, label_5000))\n",
    "\n",
    "tsne_df=pd.DataFrame(data=tsne_data,columns=('dim1','dim2','Score'))\n",
    "tsne_data.shape\n",
    "#plotting \n",
    "sns.FacetGrid(tsne_df,hue='Score', height=6).map(plt.scatter,'dim1','dim2').add_legend()\n",
    "plt.title(\"TSNE FOR BAG OF WORDS\")\n",
    "plt.show()"
   ]
  },
  {
   "cell_type": "markdown",
   "metadata": {},
   "source": [
    "## Bi-Grams and n-Grams"
   ]
  },
  {
   "cell_type": "code",
   "execution_count": 30,
   "metadata": {},
   "outputs": [
    {
     "name": "stdout",
     "output_type": "stream",
     "text": [
      "the type of count_vectorizer is  <class 'scipy.sparse.csr.csr_matrix'>\n",
      "the shape of out text BOW vectorizer  (4986, 977)\n",
      "the number of unique words from both bigram and unigram are  977\n"
     ]
    }
   ],
   "source": [
    "count_vect=CountVectorizer(ngram_range=(2,10), min_df=10,max_features=5000)\n",
    "#min_df = 5 means \"ignore terms that appear in less than 5 documents\".\n",
    "final_bigram_counts=count_vect.fit_transform(preprocessed_reviews)\n",
    "print('the type of count_vectorizer is ',type(final_bigram_counts))\n",
    "print(\"the shape of out text BOW vectorizer \",final_bigram_counts.get_shape())\n",
    "print(\"the number of unique words from both bigram and unigram are \",final_bigram_counts.get_shape()[1])"
   ]
  },
  {
   "cell_type": "markdown",
   "metadata": {},
   "source": [
    "- on increasing the x and y cordinates of ngram-range, number of unique words from both unigram and bigram are decreasing\n",
    "As range increases time in output also increases"
   ]
  },
  {
   "cell_type": "markdown",
   "metadata": {},
   "source": [
    "# TSNE ON BIGRAMS AND N-GRAMS"
   ]
  },
  {
   "cell_type": "code",
   "execution_count": 31,
   "metadata": {},
   "outputs": [
    {
     "name": "stdout",
     "output_type": "stream",
     "text": [
      "(4986, 3)\n"
     ]
    },
    {
     "data": {
      "image/png": "[encoded data removed]",
      "text/plain": [
       "<Figure size 511.75x432 with 1 Axes>"
      ]
     },
     "metadata": {
      "needs_background": "light"
     },
     "output_type": "display_data"
    }
   ],
   "source": [
    "tsne=final_bigram_counts[0:5000,:]\n",
    "label_5000=final['Score'][0:5000].values.reshape(-1,1)\n",
    "model=TSNE(n_components=2,random_state=0,perplexity=80,n_iter=5000)\n",
    "tsne_data=model.fit_transform(tsne.toarray())\n",
    "#for new dataframe\n",
    "tsne_data=np.hstack((tsne_data,label_5000))\n",
    "tsne_df=pd.DataFrame(data=tsne_data,columns=('dim1','dim2','Score'))\n",
    "print(tsne_data.shape)\n",
    "#plotting of graph\n",
    "sns.FacetGrid(tsne_df,hue='Score', height=6).map(plt.scatter,'dim1','dim2').add_legend()\n",
    "plt.title(\"TSNE FOR BAG OF WORDS\")\n",
    "plt.show()"
   ]
  },
  {
   "cell_type": "markdown",
   "metadata": {},
   "source": [
    "## TF-IDF"
   ]
  },
  {
   "cell_type": "code",
   "execution_count": 32,
   "metadata": {},
   "outputs": [
    {
     "name": "stdout",
     "output_type": "stream",
     "text": [
      "some sample of tf_idf are  ['ability', 'able', 'able find', 'able get', 'absolute', 'absolutely', 'absolutely delicious', 'absolutely love', 'absolutely no', 'according']\n",
      "==================================================\n",
      "the type of the tfidf vector is  <class 'scipy.sparse.csr.csr_matrix'>\n",
      "the shape of the tfidf vector is  (4986, 3195)\n",
      "the number of unique words including both unigraram and bigram is  3195\n"
     ]
    }
   ],
   "source": [
    "tf_idf_vect=TfidfVectorizer(ngram_range=(1,219),min_df=10)\n",
    "tf_idf_vect.fit(preprocessed_reviews)\n",
    "print(\"some sample of tf_idf are \",tf_idf_vect.get_feature_names()[0:10])\n",
    "print(\"=\"*50)\n",
    "\n",
    "final_tf_idf=tf_idf_vect.transform(preprocessed_reviews)\n",
    "print(\"the type of the tfidf vector is \",type(final_tf_idf))\n",
    "print(\"the shape of the tfidf vector is \",final_tf_idf.get_shape())\n",
    "print(\"the number of unique words including both unigraram and bigram is \",final_tf_idf.get_shape()[1])"
   ]
  },
  {
   "cell_type": "code",
   "execution_count": 33,
   "metadata": {},
   "outputs": [
    {
     "name": "stdout",
     "output_type": "stream",
     "text": [
      "['ability', 'able', 'able find', 'able get', 'absolute']\n"
     ]
    }
   ],
   "source": [
    "features=tf_idf_vect.get_feature_names()\n",
    "len(features)\n",
    "print(features[0:5])"
   ]
  },
  {
   "cell_type": "markdown",
   "metadata": {},
   "source": [
    "# TSNE ON TFIDF"
   ]
  },
  {
   "cell_type": "code",
   "execution_count": 34,
   "metadata": {},
   "outputs": [
    {
     "name": "stdout",
     "output_type": "stream",
     "text": [
      "(4986, 3)\n"
     ]
    },
    {
     "data": {
      "image/png": "[encoded data removed]",
      "text/plain": [
       "<Figure size 511.75x432 with 1 Axes>"
      ]
     },
     "metadata": {
      "needs_background": "light"
     },
     "output_type": "display_data"
    }
   ],
   "source": [
    "tsne=final_tf_idf[0:5000,:]\n",
    "label_5000=final['Score'][0:5000].values.reshape(-1,1)\n",
    "model=TSNE(n_components=2,random_state=0,perplexity=50,n_iter=5000)\n",
    "tsne_data=model.fit_transform(tsne.toarray())\n",
    "#new dataframe\n",
    "tsne_data=np.hstack((tsne_data,label_5000))\n",
    "tsne_df=pd.DataFrame(data=tsne_data,columns=('dim1','dim2','Score'))\n",
    "print(tsne_data.shape)\n",
    "#printing plot\n",
    "sns.FacetGrid(tsne_df,hue='Score',height=6).map(plt.scatter,'dim1','dim2').add_legend()\n",
    "plt.title(\"TSNE ON TF-IDF\")\n",
    "plt.show()"
   ]
  },
  {
   "cell_type": "markdown",
   "metadata": {},
   "source": [
    "# Word2vec"
   ]
  },
  {
   "cell_type": "code",
   "execution_count": 35,
   "metadata": {},
   "outputs": [],
   "source": [
    "i=0\n",
    "list_of_sentence=[]\n",
    "for sentence in preprocessed_reviews:\n",
    "    list_of_sentence.append(sentence.split())"
   ]
  },
  {
   "cell_type": "code",
   "execution_count": 36,
   "metadata": {},
   "outputs": [
    {
     "name": "stdout",
     "output_type": "stream",
     "text": [
      "[('alternative', 0.9999507665634155), ('calorie', 0.9999367594718933), ('regular', 0.9999309778213501), ('thai', 0.999928891658783), ('need', 0.9999264478683472), ('exactly', 0.9999250173568726), ('popchips', 0.9999243021011353), ('content', 0.999923825263977), ('quick', 0.999923586845398), ('surprisingly', 0.999923586845398)]\n",
      "==================================================================\n",
      "[('goes', 0.9999911785125732), ('together', 0.9999905824661255), ('wow', 0.9999899864196777), ('liquid', 0.9999896883964539), ('wife', 0.9999895691871643), ('experience', 0.9999895095825195), ('bars', 0.9999894499778748), ('house', 0.9999892711639404), ('filled', 0.9999890923500061), ('eaten', 0.9999889731407166)]\n",
      "==================================================================\n",
      "['son', 'really', 'enjoys', 'flavors', 'eats', 'fast', 'shipping', 'no', 'shopping', 'stores', 'great', 'prices', 'would', 'recommend']\n"
     ]
    }
   ],
   "source": [
    "w2v_model=Word2Vec(list_of_sentence,min_count=5,size=5000,workers=4)\n",
    "print(w2v_model.wv.most_similar('great'))\n",
    "print(\"=\"*66)\n",
    "print(w2v_model.wv.most_similar('worst'))\n",
    "print(\"=\"*66)\n",
    "print(list_of_sentence[6])"
   ]
  },
  {
   "cell_type": "code",
   "execution_count": 37,
   "metadata": {},
   "outputs": [
    {
     "name": "stdout",
     "output_type": "stream",
     "text": [
      "no of words that occur minimum 5 times  3817\n",
      "saome words for sample ['baby', 'loves', 'food', 'whole', 'foods', 'sell', 'flat', 'thats', 'retail', 'ordered', 'received', 'today', 'not', 'even', 'opened', 'package', 'could', 'smell', 'rotten', 'coming', 'box', 'find', 'jar', 'mold', 'everywhere', 'disgusted', 'believe', 'waited', 'week', 'arrive', 'waste', 'time', 'worst', 'part', 'fruit', 'well', 'also', 'broken', 'get', 'happens', 'shipping', 'dented', 'damaged', 'neither', 'someone', 'packaged', 'sent', 'shipment', 'happy', 'customer']\n"
     ]
    }
   ],
   "source": [
    "w2v_words=list(w2v_model.wv.vocab)\n",
    "print(\"no of words that occur minimum 5 times \",len(w2v_words))\n",
    "print(\"saome words for sample\",w2v_words[0:50])"
   ]
  },
  {
   "cell_type": "code",
   "execution_count": 38,
   "metadata": {},
   "outputs": [
    {
     "data": {
      "text/plain": [
       "[('wants', 0.9999505877494812),\n",
       " ('treat', 0.9999427199363708),\n",
       " ('enjoys', 0.9999419450759888),\n",
       " ('consider', 0.999941885471344),\n",
       " ('stay', 0.999941349029541),\n",
       " ('looking', 0.9999399185180664),\n",
       " ('certainly', 0.999939501285553),\n",
       " ('truly', 0.9999392628669739),\n",
       " ('friend', 0.9999375343322754),\n",
       " ('chew', 0.9999372959136963)]"
      ]
     },
     "execution_count": 38,
     "metadata": {},
     "output_type": "execute_result"
    }
   ],
   "source": [
    "model=(\"man\",\"woman\",\"kislay\")\n",
    "w2v_model.wv.most_similar('woman')"
   ]
  },
  {
   "cell_type": "markdown",
   "metadata": {},
   "source": [
    "# AVG_W2V"
   ]
  },
  {
   "cell_type": "code",
   "execution_count": 79,
   "metadata": {},
   "outputs": [
    {
     "name": "stderr",
     "output_type": "stream",
     "text": [
      "100%|██████████| 4986/4986 [00:06<00:00, 718.12it/s]"
     ]
    },
    {
     "name": "stdout",
     "output_type": "stream",
     "text": [
      "4986\n",
      "5000\n"
     ]
    },
    {
     "name": "stderr",
     "output_type": "stream",
     "text": [
      "\n"
     ]
    }
   ],
   "source": [
    "sent_vectors=[];\n",
    "for sent in tqdm(list_of_sentence):\n",
    "    sent_vec=np.zeros(5000)\n",
    "    cnt_words=0;\n",
    "    for word in sent:\n",
    "        if word in w2v_words:\n",
    "            vec=w2v_model.wv[word]\n",
    "            sent_vec+=vec\n",
    "            cnt_words +=1\n",
    "    if cnt_words!=0:\n",
    "        sent_vec/=cnt_words\n",
    "    sent_vectors.append(sent_vec)\n",
    "print(len(sent_vectors))\n",
    "print(len(sent_vectors[0]))"
   ]
  },
  {
   "cell_type": "markdown",
   "metadata": {},
   "source": [
    "# TSNE ON AVGW2V"
   ]
  },
  {
   "cell_type": "code",
   "execution_count": 95,
   "metadata": {},
   "outputs": [
    {
     "data": {
      "text/plain": [
       "(4986, 5000)"
      ]
     },
     "execution_count": 95,
     "metadata": {},
     "output_type": "execute_result"
    }
   ],
   "source": [
    "avg_w2v=np.asmatrix(sent_vectors)\n",
    "avg_w2v.shape"
   ]
  },
  {
   "cell_type": "code",
   "execution_count": 104,
   "metadata": {},
   "outputs": [
    {
     "name": "stdout",
     "output_type": "stream",
     "text": [
      "(4986,)\n",
      "(4986, 3195)\n",
      "(4986, 3)\n",
      "(4986, 3)\n"
     ]
    }
   ],
   "source": [
    "label=final['Score']\n",
    "print(label.shape)\n",
    "model=TSNE(n_components=2,random_state=0,perplexity=99,n_iter=250)\n",
    "tsne_data=model.fit_transform(avg_w2v)\n",
    "print(tsne.shape)\n",
    "tsne_data = np.vstack((tsne_data.T, labels)).T\n",
    "print(tsne_data.shape)\n",
    "tsne_df = pd.DataFrame(data=tsne_data, columns=(\"Dim_1\", \"Dim_2\", \"label\"))\n",
    "print(tsne_df.shape)\n"
   ]
  },
  {
   "cell_type": "code",
   "execution_count": 105,
   "metadata": {
    "scrolled": true
   },
   "outputs": [
    {
     "data": {
      "image/png": "[encoded data removed]",
      "text/plain": [
       "<Figure size 511.75x432 with 1 Axes>"
      ]
     },
     "metadata": {
      "needs_background": "light"
     },
     "output_type": "display_data"
    }
   ],
   "source": [
    "sns.FacetGrid(tsne_df,hue=\"label\",height=6).map(plt.scatter,'Dim_1','Dim_2').add_legend()\n",
    "plt.title(\"TSNE on AVGW2V\")\n",
    "plt.show()"
   ]
  },
  {
   "cell_type": "markdown",
   "metadata": {},
   "source": [
    "# TFIDF WEIGHTED W2V"
   ]
  },
  {
   "cell_type": "code",
   "execution_count": 207,
   "metadata": {},
   "outputs": [],
   "source": [
    "tfidf_feat = tf_idf_vect.get_feature_names() # tfidf words/col-names\n",
    "# final_tf_idf is the sparse matrix with row= sentence, col=word and cell_val = tfidf\n",
    "\n",
    "tfidf_sent_vectors = []; # the tfidf-w2v for each sentence/review is stored in this list\n",
    "row=0;\n",
    "for sent in list_of_sentence: # for each review/sentence\n",
    "    sent_vec = np.zeros(5000) # as word vectors are of zero length\n",
    "    #DIGIT IN NP.ZEROS WILL BE SAME AS THE NUMBER OF REVIEWS/LABELS WE ARE USING FOR DEFINING TSNE\n",
    "    weight_sum =0; # num of words with a valid vector in the sentence/review\n",
    "    for word in sent: # for each word in a review/sentence\n",
    "        if word in w2v_words and word in tfidf_feat:\n",
    "            vec=w2v_model.wv[word]\n",
    "            tf_idf=dictionary[word]*(sent.count(word)/len(sent))\n",
    "            sent_vec+=(vec*tf_idf)\n",
    "            weight_sum+=tf_idf\n",
    "    if weight_sum!=0:\n",
    "        sent_vec/=weight_sum\n",
    "    tfidf_sent_vectors.append(sent_vec)\n",
    "    row +=1\n",
    "        "
   ]
  },
  {
   "cell_type": "markdown",
   "metadata": {},
   "source": [
    "# TSNE ON TFIDF W2V"
   ]
  },
  {
   "cell_type": "code",
   "execution_count": 208,
   "metadata": {},
   "outputs": [
    {
     "name": "stdout",
     "output_type": "stream",
     "text": [
      "(4986,)\n"
     ]
    }
   ],
   "source": [
    "label=final['Score']\n",
    "print(label.shape)\n"
   ]
  },
  {
   "cell_type": "code",
   "execution_count": 212,
   "metadata": {},
   "outputs": [
    {
     "data": {
      "image/png": "[encoded data removed]",
      "text/plain": [
       "<Figure size 511.75x432 with 1 Axes>"
      ]
     },
     "metadata": {
      "needs_background": "light"
     },
     "output_type": "display_data"
    }
   ],
   "source": [
    "labels = final['Score']\n",
    "\n",
    "\n",
    "model = TSNE(n_components=2, random_state=0, perplexity =88, n_iter = 5000)\n",
    "\n",
    "\n",
    "tsne_data = model.fit_transform(tfidf_sent_vectors)\n",
    "\n",
    "\n",
    "\n",
    "tsne_data = np.vstack((tsne_data.T, labels)).T\n",
    "tsne_df = pd.DataFrame(data=tsne_data, columns=(\"Dim_1\", \"Dim_2\", \"label\"))\n",
    "\n",
    "\n",
    "\n",
    "sns.FacetGrid(tsne_df, hue=\"label\", height=6).map(plt.scatter, 'Dim_1', 'Dim_2').add_legend()\n",
    "plt.title('TSNE ON TFIDF W2V')\n",
    "plt.show()"
   ]
  },
  {
   "cell_type": "markdown",
   "metadata": {},
   "source": [
    "## CONCLUSION"
   ]
  },
  {
   "cell_type": "markdown",
   "metadata": {},
   "source": [
    "1. ACCORDING TO MY POINT OF VIEW I AM NOT GETTING MUCH OBSERVATION FROM ALL THE TSNE'S THAT I PLOT BECAUSE ALL THE POSITIVE AND NEGATIVE POINTS ARE OVERLAPPING ON EACH OTHER.\n",
    "2. TSNE ON BAG OF WORDS IS LITTLE HELPFUL BECAUSE FEW POINTS ARE NOT OVERLAPPING ON EACH OTHER BUT REST OF THEM ARE ALSO OVERLAPPING AS OTHER.\n",
    "3. POSITIVE POINTS ARE OVERLAPPING ON THE NEGATIVE POINTS WHICH SIGNIFIES THAT SATISFIED CUSTOMERS ARE MORE THAN THE DISSATISFIED CUSTOMERS.\n",
    "4. ALWAYS TRY TO PLOT THE TSNE WITH DIFFERENT PERPLEXITY VALUES SO THAT WE CAN GET FINE RESULTS.\n",
    "5. N_ITER(NO OF ITERATION) COULD NOT BE MORE THAN THE ACTUAL LIMIT OF POINTS THAT WE ARE USING IN PLOTTING THE TSNE ON SPECIFIC DATA.\n"
   ]
  },
  {
   "cell_type": "code",
   "execution_count": null,
   "metadata": {},
   "outputs": [],
   "source": []
  }
 ],
 "metadata": {
  "kernelspec": {
   "display_name": "Python 3",
   "language": "python",
   "name": "python3"
  },
  "language_info": {
   "codemirror_mode": {
    "name": "ipython",
    "version": 3
   },
   "file_extension": ".py",
   "mimetype": "text/x-python",
   "name": "python",
   "nbconvert_exporter": "python",
   "pygments_lexer": "ipython3",
   "version": "3.7.1"
  }
 },
 "nbformat": 4,
 "nbformat_minor": 2
}
